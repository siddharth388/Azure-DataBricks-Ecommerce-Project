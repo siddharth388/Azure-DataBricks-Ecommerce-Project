{
 "cells": [
  {
   "cell_type": "code",
   "execution_count": 0,
   "metadata": {
    "application/vnd.databricks.v1+cell": {
     "cellMetadata": {
      "byteLimit": 2048000,
      "rowLimit": 10000
     },
     "inputWidgets": {},
     "nuid": "ef74fc56-c265-4ae0-9be0-f8233a272080",
     "showTitle": false,
     "tableResultSettingsMap": {},
     "title": ""
    }
   },
   "outputs": [
    {
     "data": {
      "text/plain": [
       "True"
      ]
     },
     "execution_count": 4,
     "metadata": {},
     "output_type": "execute_result"
    }
   ],
   "source": [
    "configs = {\n",
    "\"fs.azure.account.auth.type\": \"OAuth\",\n",
    "\"fs.azure.account.oauth.provider.type\": \"org.apache.hadoop.fs.azurebfs.oauth2.ClientCredsTokenProvider\",\n",
    "\"fs.azure.account.oauth2.client.id\": \"\",\n",
    "\"fs.azure.account.oauth2.client.secret\" : '',\n",
    "\"fs.azure.account.oauth2.client.endpoint\": \"https://login.microsoftonline.com/keyid/oauth2/token\"}\n",
    "\n",
    "dbutils.fs.mount(\n",
    "    source = \"abfss://landing-zone-2@ecomadlssid.dfs.core.windows.net\",\n",
    "    mount_point = \"/mnt/ecomdata\",\n",
    "    extra_configs = configs)\n"
   ]
  },
  {
   "cell_type": "code",
   "execution_count": 0,
   "metadata": {
    "application/vnd.databricks.v1+cell": {
     "cellMetadata": {
      "byteLimit": 2048000,
      "rowLimit": 10000
     },
     "inputWidgets": {},
     "nuid": "83d1479d-fc88-4ccb-83c7-fce682d15c48",
     "showTitle": false,
     "tableResultSettingsMap": {},
     "title": ""
    }
   },
   "outputs": [
    {
     "data": {
      "text/html": [
       "<style scoped>\n",
       "  .table-result-container {\n",
       "    max-height: 300px;\n",
       "    overflow: auto;\n",
       "  }\n",
       "  table, th, td {\n",
       "    border: 1px solid black;\n",
       "    border-collapse: collapse;\n",
       "  }\n",
       "  th, td {\n",
       "    padding: 5px;\n",
       "  }\n",
       "  th {\n",
       "    text-align: left;\n",
       "  }\n",
       "</style><div class='table-result-container'><table class='table-result'><thead style='background-color: white'><tr><th>path</th><th>name</th><th>size</th><th>modificationTime</th></tr></thead><tbody><tr><td>dbfs:/mnt/ecomdata/buyers-raw-2/</td><td>buyers-raw-2/</td><td>0</td><td>1747737693000</td></tr><tr><td>dbfs:/mnt/ecomdata/countries-raw-2/</td><td>countries-raw-2/</td><td>0</td><td>1747737712000</td></tr><tr><td>dbfs:/mnt/ecomdata/sellers-raw-2/</td><td>sellers-raw-2/</td><td>0</td><td>1747737704000</td></tr><tr><td>dbfs:/mnt/ecomdata/users-raw-2/</td><td>users-raw-2/</td><td>0</td><td>1747737687000</td></tr></tbody></table></div>"
      ]
     },
     "metadata": {
      "application/vnd.databricks.v1+output": {
       "addedWidgets": {},
       "aggData": [],
       "aggError": "",
       "aggOverflow": false,
       "aggSchema": [],
       "aggSeriesLimitReached": false,
       "aggType": "",
       "arguments": {},
       "columnCustomDisplayInfos": {},
       "data": [
        [
         "dbfs:/mnt/ecomdata/buyers-raw-2/",
         "buyers-raw-2/",
         0,
         1747737693000
        ],
        [
         "dbfs:/mnt/ecomdata/countries-raw-2/",
         "countries-raw-2/",
         0,
         1747737712000
        ],
        [
         "dbfs:/mnt/ecomdata/sellers-raw-2/",
         "sellers-raw-2/",
         0,
         1747737704000
        ],
        [
         "dbfs:/mnt/ecomdata/users-raw-2/",
         "users-raw-2/",
         0,
         1747737687000
        ]
       ],
       "datasetInfos": [],
       "dbfsResultPath": null,
       "isJsonSchema": true,
       "metadata": {
        "isDbfsCommandResult": false
       },
       "overflow": false,
       "plotOptions": {
        "customPlotOptions": {},
        "displayType": "table",
        "pivotAggregation": null,
        "pivotColumns": null,
        "xColumns": null,
        "yColumns": null
       },
       "removedWidgets": [],
       "schema": [
        {
         "metadata": "{}",
         "name": "path",
         "type": "\"string\""
        },
        {
         "metadata": "{}",
         "name": "name",
         "type": "\"string\""
        },
        {
         "metadata": "{}",
         "name": "size",
         "type": "\"long\""
        },
        {
         "metadata": "{}",
         "name": "modificationTime",
         "type": "\"long\""
        }
       ],
       "type": "table"
      }
     },
     "output_type": "display_data"
    }
   ],
   "source": [
    "%fs ls \"/mnt/ecomdata/\""
   ]
  },
  {
   "cell_type": "code",
   "execution_count": 0,
   "metadata": {
    "application/vnd.databricks.v1+cell": {
     "cellMetadata": {
      "byteLimit": 2048000,
      "rowLimit": 10000
     },
     "inputWidgets": {},
     "nuid": "eae6c423-d833-49b5-afc7-16db71fa7b13",
     "showTitle": false,
     "tableResultSettingsMap": {},
     "title": ""
    }
   },
   "outputs": [],
   "source": [
    "from pyspark.sql import SparkSession\n",
    "from pyspark.sql.functions import *\n",
    "from pyspark.sql.types import *\n",
    "spark = SparkSession.builder.appName(\"Ecom data pipeline\").getOrCreate()"
   ]
  },
  {
   "cell_type": "code",
   "execution_count": 0,
   "metadata": {
    "application/vnd.databricks.v1+cell": {
     "cellMetadata": {
      "byteLimit": 2048000,
      "rowLimit": 10000
     },
     "inputWidgets": {},
     "nuid": "7dd90976-4c26-41da-87ee-16af19a56001",
     "showTitle": false,
     "tableResultSettingsMap": {},
     "title": ""
    }
   },
   "outputs": [
    {
     "data": {
      "text/html": [
       "\n",
       "            <div>\n",
       "                <p><b>SparkSession - hive</b></p>\n",
       "                \n",
       "        <div>\n",
       "            <p><b>SparkContext</b></p>\n",
       "\n",
       "            <p><a href=\"/?o=2507283383528461#setting/sparkui/0520-114816-t3ulvl0h/driver-7270843639131654777\">Spark UI</a></p>\n",
       "\n",
       "            <dl>\n",
       "              <dt>Version</dt>\n",
       "                <dd><code>v3.5.0</code></dd>\n",
       "              <dt>Master</dt>\n",
       "                <dd><code>local[*, 4]</code></dd>\n",
       "              <dt>AppName</dt>\n",
       "                <dd><code>Databricks Shell</code></dd>\n",
       "            </dl>\n",
       "        </div>\n",
       "        \n",
       "            </div>\n",
       "        "
      ],
      "text/plain": [
       "<pyspark.sql.session.SparkSession at 0x7fa7983cda10>"
      ]
     },
     "execution_count": 6,
     "metadata": {},
     "output_type": "execute_result"
    }
   ],
   "source": [
    "spark"
   ]
  },
  {
   "cell_type": "code",
   "execution_count": 0,
   "metadata": {
    "application/vnd.databricks.v1+cell": {
     "cellMetadata": {
      "byteLimit": 2048000,
      "rowLimit": 10000
     },
     "inputWidgets": {},
     "nuid": "826e1d6e-38de-4b94-9bd5-a067d36f6b4a",
     "showTitle": false,
     "tableResultSettingsMap": {},
     "title": ""
    }
   },
   "outputs": [],
   "source": [
    "userDF = spark.read.format(\"parquet\").option(\"header\",\"true\").option(\"inferSchema\",\"true\").load(\"/mnt/ecomdata/users-raw-2\")\n"
   ]
  },
  {
   "cell_type": "code",
   "execution_count": 0,
   "metadata": {
    "application/vnd.databricks.v1+cell": {
     "cellMetadata": {
      "byteLimit": 2048000,
      "rowLimit": 10000
     },
     "inputWidgets": {},
     "nuid": "3af17e4a-907a-4196-a683-802e6cc1902a",
     "showTitle": false,
     "tableResultSettingsMap": {},
     "title": ""
    }
   },
   "outputs": [
    {
     "name": "stdout",
     "output_type": "stream",
     "text": [
      "+--------------------+----+-----------+--------+-----------------+---------------+-------------------+--------------+------------+----------------+--------------+--------------+------+----------------+-------------+---------+-------------+---------+-----------------+------------------+---------+-----------------+----------------+-----------+\n",
      "|      identifierhash|type|    country|language|socialnbfollowers|socialnbfollows|socialproductsliked|productslisted|productssold|productspassrate|productswished|productsbought|gender|civilitygenderid|civilitytitle|hasanyapp|hasandroidapp|hasiosapp|hasprofilepicture|dayssincelastlogin|seniority|seniorityasmonths|seniorityasyears|countrycode|\n",
      "+--------------------+----+-----------+--------+-----------------+---------------+-------------------+--------------+------------+----------------+--------------+--------------+------+----------------+-------------+---------+-------------+---------+-----------------+------------------+---------+-----------------+----------------+-----------+\n",
      "|-7279641312655250028|user| Etats-Unis|      en|                3|              8|                  0|             0|           0|             0.0|             0|             0|     F|               2|          mrs|    False|        False|    False|             True|               709|     3205|           106.83|             8.9|         us|\n",
      "|-1456013578740053406|user|  Allemagne|      de|                3|              8|                  0|             0|           0|             0.0|             0|             0|     F|               2|          mrs|    False|        False|    False|             True|               709|     3205|           106.83|             8.9|         de|\n",
      "| 9006282053848196165|user|      Suède|      en|                3|              8|                  0|             0|           0|             0.0|             0|             0|     M|               1|           mr|     True|        False|     True|             True|               689|     3205|           106.83|             8.9|         se|\n",
      "|-7154634866120535654|user|    Turquie|      en|                3|              8|                  0|             0|           0|             0.0|             0|             0|     F|               2|          mrs|    False|        False|    False|             True|               709|     3205|           106.83|             8.9|         tr|\n",
      "| 2858299215060733023|user|     France|      en|                3|              8|                  0|             0|           0|             0.0|             0|             0|     M|               1|           mr|     True|        False|     True|             True|               709|     3205|           106.83|             8.9|         fr|\n",
      "|-8370972521561479983|user|Royaume-Uni|      en|                3|              8|                  0|             0|           0|             0.0|             0|             0|     F|               2|          mrs|    False|        False|    False|             True|               709|     3205|           106.83|             8.9|         gb|\n",
      "|-7877915015908472168|user|Royaume-Uni|      en|                3|              8|                  4|             0|           0|             0.0|             0|             0|     F|               2|          mrs|    False|        False|    False|             True|               591|     3205|           106.83|             8.9|         gb|\n",
      "| 7455841332634807036|user|     Italie|      fr|                3|              8|                  0|             0|           0|             0.0|             0|             0|     F|               2|          mrs|     True|         True|    False|             True|               709|     3205|           106.83|             8.9|         it|\n",
      "| 4607255007288453096|user|     Italie|      fr|                3|              8|                  0|             0|           0|             0.0|             0|             0|     F|               2|          mrs|     True|         True|    False|             True|               701|     3205|           106.83|             8.9|         it|\n",
      "|-7302797141205914253|user|     France|      en|                3|              8|                  0|             0|           0|             0.0|             0|             0|     M|               1|           mr|     True|        False|     True|             True|               703|     3205|           106.83|             8.9|         fr|\n",
      "|-6727673442828273069|user| Etats-Unis|      en|                3|              8|                  0|             0|           0|             0.0|             0|             0|     F|               2|          mrs|    False|        False|    False|             True|               709|     3205|           106.83|             8.9|         us|\n",
      "|-3703523845250928186|user|    Espagne|      es|                3|              8|                  0|             0|           0|             0.0|             0|             0|     F|               2|          mrs|    False|        False|    False|             True|               709|     3205|           106.83|             8.9|         es|\n",
      "| 2543719509187236735|user| Etats-Unis|      en|                3|              8|                  0|             0|           0|             0.0|             0|             0|     F|               2|          mrs|    False|        False|    False|             True|               709|     3205|           106.83|             8.9|         us|\n",
      "|-4116451590548020613|user|Royaume-Uni|      en|                3|              8|                  0|             0|           0|             0.0|             0|             0|     F|               2|          mrs|    False|        False|    False|             True|               709|     3205|           106.83|             8.9|         gb|\n",
      "| 6412144644819322909|user| Etats-Unis|      en|                3|              8|                  0|             0|           0|             0.0|             0|             0|     F|               2|          mrs|    False|        False|    False|             True|               709|     3205|           106.83|             8.9|         us|\n",
      "| -531871068406637242|user|    Espagne|      es|                3|              8|                  0|             0|           0|             0.0|             0|             0|     F|               2|          mrs|    False|        False|    False|             True|               709|     3205|           106.83|             8.9|         es|\n",
      "| 6359422170336773354|user| Etats-Unis|      en|                3|              8|                  0|             0|           0|             0.0|             0|             0|     F|               2|          mrs|    False|        False|    False|             True|               558|     3205|           106.83|             8.9|         us|\n",
      "|-8231936648814680895|user|   Danemark|      en|                3|              8|                370|             0|           0|             0.0|             1|             0|     F|               2|          mrs|    False|        False|    False|             True|                42|     3205|           106.83|             8.9|         dk|\n",
      "| 5663923945758514393|user| Etats-Unis|      en|                3|              8|                  1|             0|           0|             0.0|             0|             0|     F|               2|          mrs|    False|        False|    False|             True|                32|     3205|           106.83|             8.9|         us|\n",
      "|-9170487442747331639|user|     France|      fr|                3|              8|                  0|             0|           0|             0.0|             0|             0|     M|               1|           mr|    False|        False|    False|             True|               276|     3205|           106.83|             8.9|         fr|\n",
      "+--------------------+----+-----------+--------+-----------------+---------------+-------------------+--------------+------------+----------------+--------------+--------------+------+----------------+-------------+---------+-------------+---------+-----------------+------------------+---------+-----------------+----------------+-----------+\n",
      "only showing top 20 rows\n",
      "\n"
     ]
    }
   ],
   "source": [
    "userDF.show()"
   ]
  },
  {
   "cell_type": "code",
   "execution_count": 0,
   "metadata": {
    "application/vnd.databricks.v1+cell": {
     "cellMetadata": {
      "byteLimit": 2048000,
      "rowLimit": 10000
     },
     "inputWidgets": {},
     "nuid": "bb18c914-da7e-43fa-9e53-1955f677a206",
     "showTitle": false,
     "tableResultSettingsMap": {},
     "title": ""
    }
   },
   "outputs": [
    {
     "name": "stdout",
     "output_type": "stream",
     "text": [
      "root\n",
      " |-- identifierhash: string (nullable = true)\n",
      " |-- type: string (nullable = true)\n",
      " |-- country: string (nullable = true)\n",
      " |-- language: string (nullable = true)\n",
      " |-- socialnbfollowers: string (nullable = true)\n",
      " |-- socialnbfollows: string (nullable = true)\n",
      " |-- socialproductsliked: string (nullable = true)\n",
      " |-- productslisted: string (nullable = true)\n",
      " |-- productssold: string (nullable = true)\n",
      " |-- productspassrate: string (nullable = true)\n",
      " |-- productswished: string (nullable = true)\n",
      " |-- productsbought: string (nullable = true)\n",
      " |-- gender: string (nullable = true)\n",
      " |-- civilitygenderid: string (nullable = true)\n",
      " |-- civilitytitle: string (nullable = true)\n",
      " |-- hasanyapp: string (nullable = true)\n",
      " |-- hasandroidapp: string (nullable = true)\n",
      " |-- hasiosapp: string (nullable = true)\n",
      " |-- hasprofilepicture: string (nullable = true)\n",
      " |-- dayssincelastlogin: string (nullable = true)\n",
      " |-- seniority: string (nullable = true)\n",
      " |-- seniorityasmonths: string (nullable = true)\n",
      " |-- seniorityasyears: string (nullable = true)\n",
      " |-- countrycode: string (nullable = true)\n",
      "\n"
     ]
    }
   ],
   "source": [
    "userDF.printSchema()"
   ]
  },
  {
   "cell_type": "code",
   "execution_count": 0,
   "metadata": {
    "application/vnd.databricks.v1+cell": {
     "cellMetadata": {
      "byteLimit": 2048000,
      "rowLimit": 10000
     },
     "inputWidgets": {},
     "nuid": "f38e7f2c-c010-4c0e-bb72-fbd42181eb88",
     "showTitle": false,
     "tableResultSettingsMap": {},
     "title": ""
    }
   },
   "outputs": [],
   "source": [
    "userDF.write.format(\"delta\").mode(\"overwrite\").save(\"/mnt/delta/tables/bronze/users\")"
   ]
  },
  {
   "cell_type": "code",
   "execution_count": 0,
   "metadata": {
    "application/vnd.databricks.v1+cell": {
     "cellMetadata": {
      "byteLimit": 2048000,
      "rowLimit": 10000
     },
     "inputWidgets": {},
     "nuid": "bcf54460-cb71-4fa5-a79a-576405b6c562",
     "showTitle": false,
     "tableResultSettingsMap": {},
     "title": ""
    }
   },
   "outputs": [],
   "source": [
    "buyersDF = spark.read.format(\"parquet\").option(\"header\",\"true\").option(\"inferSchema\",\"true\").load(\"/mnt/ecomdata/buyers-raw-2\")\n"
   ]
  },
  {
   "cell_type": "code",
   "execution_count": 0,
   "metadata": {
    "application/vnd.databricks.v1+cell": {
     "cellMetadata": {
      "byteLimit": 2048000,
      "rowLimit": 10000
     },
     "inputWidgets": {},
     "nuid": "bb115852-7148-4798-bd21-2c5cc12ab5f5",
     "showTitle": false,
     "tableResultSettingsMap": {},
     "title": ""
    }
   },
   "outputs": [
    {
     "name": "stdout",
     "output_type": "stream",
     "text": [
      "+-----------+------+---------+-------------+------------+----------+---------------+-------------+-----------------+--------------------+----------------------+------------------+-------------------------+---------------------+-------------------+-------------------+------------------+----------------------+----------------------+---------------------+------------------+------------------+-----------------+---------------------+---------------------+--------------------+---------------+------------------+-------------+-------------+----------------+----------------+\n",
      "|    country|buyers|topbuyers|topbuyerratio|femalebuyers|malebuyers|topfemalebuyers|topmalebuyers|femalebuyersratio|topfemalebuyersratio|boughtperwishlistratio|boughtperlikeratio|topboughtperwishlistratio|topboughtperlikeratio|totalproductsbought|totalproductswished|totalproductsliked|toptotalproductsbought|toptotalproductswished|toptotalproductsliked|meanproductsbought|meanproductswished|meanproductsliked|topmeanproductsbought|topmeanproductswished|topmeanproductsliked|meanofflinedays|topmeanofflinedays|meanfollowers|meanfollowing|topmeanfollowers|topmeanfollowing|\n",
      "+-----------+------+---------+-------------+------------+----------+---------------+-------------+-----------------+--------------------+----------------------+------------------+-------------------------+---------------------+-------------------+-------------------+------------------+----------------------+----------------------+---------------------+------------------+------------------+-----------------+---------------------+---------------------+--------------------+---------------+------------------+-------------+-------------+----------------+----------------+\n",
      "|     France|  1251|       53|          4.2|         851|       400|             33|           20|             68.0|                62.3|                 26.08|             14.15|                    36.37|                23.21|               3573|              13700|             25249|                  1487|                  4089|                 6406|               2.9|              11.0|             20.2|                 28.1|                 77.2|               120.9|          321.8|              75.0|          4.8|          8.8|            10.1|            11.0|\n",
      "|Royaume-Uni|   792|       38|          4.8|         560|       232|             30|            8|             70.7|                78.9|                 14.97|               9.3|                    13.93|                11.59|               2174|              14524|             23378|                   853|                  6124|                 7362|               2.7|              18.3|             29.5|                 22.4|                161.2|               193.7|          298.3|              68.2|          5.4|          8.8|            11.1|            12.2|\n",
      "| Etats-Unis|   912|       31|          3.4|         700|       212|             21|           10|             76.8|                67.7|                 21.84|              7.92|                    23.35|                12.44|               2370|              10852|             29917|                   864|                  3701|                 6946|               2.6|              11.9|             32.8|                 27.9|                119.4|               224.1|          359.3|              73.0|          4.9|          9.7|            11.7|            27.9|\n",
      "|  Allemagne|   578|       29|          5.0|         409|       169|             21|            8|             70.8|                72.4|                 13.91|              6.88|                    10.13|                 4.85|               1635|              11758|             23761|                   516|                  5096|                10648|               2.8|              20.3|             41.1|                 17.8|                175.7|               367.2|          296.6|              39.3|          5.1|          8.6|            11.2|            11.3|\n",
      "|     Italie|   400|       21|          5.3|         283|       117|             14|            7|             70.8|                66.7|                 12.56|               8.6|                    11.86|                23.91|               1221|               9720|             14200|                   519|                  4376|                 2171|               3.1|              24.3|             35.5|                 24.7|                208.4|               103.4|          247.9|              40.9|          6.4|         11.6|            14.3|            15.4|\n",
      "+-----------+------+---------+-------------+------------+----------+---------------+-------------+-----------------+--------------------+----------------------+------------------+-------------------------+---------------------+-------------------+-------------------+------------------+----------------------+----------------------+---------------------+------------------+------------------+-----------------+---------------------+---------------------+--------------------+---------------+------------------+-------------+-------------+----------------+----------------+\n",
      "only showing top 5 rows\n",
      "\n"
     ]
    }
   ],
   "source": [
    "buyersDF.show(5)"
   ]
  },
  {
   "cell_type": "code",
   "execution_count": 0,
   "metadata": {
    "application/vnd.databricks.v1+cell": {
     "cellMetadata": {
      "byteLimit": 2048000,
      "rowLimit": 10000
     },
     "inputWidgets": {},
     "nuid": "fba2d9c0-6acc-4b37-8063-0eafac05eec6",
     "showTitle": false,
     "tableResultSettingsMap": {},
     "title": ""
    }
   },
   "outputs": [],
   "source": [
    "buyersDF.write.format(\"delta\").mode(\"overwrite\").save(\"/mnt/delta/tables/bronze/buyers\")"
   ]
  },
  {
   "cell_type": "code",
   "execution_count": 0,
   "metadata": {
    "application/vnd.databricks.v1+cell": {
     "cellMetadata": {
      "byteLimit": 2048000,
      "rowLimit": 10000
     },
     "inputWidgets": {},
     "nuid": "87d2e902-8598-4a6d-b0d4-4b23389a434f",
     "showTitle": false,
     "tableResultSettingsMap": {},
     "title": ""
    }
   },
   "outputs": [],
   "source": [
    "countriesDF = spark.read.format(\"parquet\").option(\"header\",\"true\").option(\"inferSchema\",\"true\").load(\"/mnt/ecomdata/countries-raw-2\")\n",
    "sellersDF = spark.read.format(\"parquet\").option(\"header\",\"true\").option(\"inferSchema\",\"true\").load(\"/mnt/ecomdata/sellers-raw-2\")\n"
   ]
  },
  {
   "cell_type": "code",
   "execution_count": 0,
   "metadata": {
    "application/vnd.databricks.v1+cell": {
     "cellMetadata": {
      "byteLimit": 2048000,
      "rowLimit": 10000
     },
     "inputWidgets": {},
     "nuid": "4ad09001-872d-49cc-92b4-9064ddba1b1d",
     "showTitle": false,
     "tableResultSettingsMap": {},
     "title": ""
    }
   },
   "outputs": [],
   "source": [
    "countriesDF.write.format(\"delta\").mode(\"overwrite\").save(\"/mnt/delta/tables/bronze/countries\")\n",
    "sellersDF.write.format(\"delta\").mode(\"overwrite\").save(\"/mnt/delta/tables/bronze/sellers\")"
   ]
  },
  {
   "cell_type": "code",
   "execution_count": 0,
   "metadata": {
    "application/vnd.databricks.v1+cell": {
     "cellMetadata": {
      "byteLimit": 2048000,
      "rowLimit": 10000
     },
     "inputWidgets": {},
     "nuid": "1dced0a8-e8eb-4851-9434-ab86663bdffb",
     "showTitle": false,
     "tableResultSettingsMap": {},
     "title": ""
    }
   },
   "outputs": [
    {
     "data": {
      "text/html": [
       "<style scoped>\n",
       "  .table-result-container {\n",
       "    max-height: 300px;\n",
       "    overflow: auto;\n",
       "  }\n",
       "  table, th, td {\n",
       "    border: 1px solid black;\n",
       "    border-collapse: collapse;\n",
       "  }\n",
       "  th, td {\n",
       "    padding: 5px;\n",
       "  }\n",
       "  th {\n",
       "    text-align: left;\n",
       "  }\n",
       "</style><div class='table-result-container'><table class='table-result'><thead style='background-color: white'><tr><th>path</th><th>name</th><th>size</th><th>modificationTime</th></tr></thead><tbody><tr><td>dbfs:/mnt/delta/tables/bronze/buyers/_delta_log/</td><td>_delta_log/</td><td>0</td><td>1747744991000</td></tr><tr><td>dbfs:/mnt/delta/tables/bronze/buyers/part-00000-ab0c0b93-eac5-401b-bc57-3c4926b7a1c5.c000.snappy.parquet</td><td>part-00000-ab0c0b93-eac5-401b-bc57-3c4926b7a1c5.c000.snappy.parquet</td><td>15176</td><td>1747744992000</td></tr></tbody></table></div>"
      ]
     },
     "metadata": {
      "application/vnd.databricks.v1+output": {
       "addedWidgets": {},
       "aggData": [],
       "aggError": "",
       "aggOverflow": false,
       "aggSchema": [],
       "aggSeriesLimitReached": false,
       "aggType": "",
       "arguments": {},
       "columnCustomDisplayInfos": {},
       "data": [
        [
         "dbfs:/mnt/delta/tables/bronze/buyers/_delta_log/",
         "_delta_log/",
         0,
         1747744991000
        ],
        [
         "dbfs:/mnt/delta/tables/bronze/buyers/part-00000-ab0c0b93-eac5-401b-bc57-3c4926b7a1c5.c000.snappy.parquet",
         "part-00000-ab0c0b93-eac5-401b-bc57-3c4926b7a1c5.c000.snappy.parquet",
         15176,
         1747744992000
        ]
       ],
       "datasetInfos": [],
       "dbfsResultPath": null,
       "isJsonSchema": true,
       "metadata": {
        "isDbfsCommandResult": false
       },
       "overflow": false,
       "plotOptions": {
        "customPlotOptions": {},
        "displayType": "table",
        "pivotAggregation": null,
        "pivotColumns": null,
        "xColumns": null,
        "yColumns": null
       },
       "removedWidgets": [],
       "schema": [
        {
         "metadata": "{}",
         "name": "path",
         "type": "\"string\""
        },
        {
         "metadata": "{}",
         "name": "name",
         "type": "\"string\""
        },
        {
         "metadata": "{}",
         "name": "size",
         "type": "\"long\""
        },
        {
         "metadata": "{}",
         "name": "modificationTime",
         "type": "\"long\""
        }
       ],
       "type": "table"
      }
     },
     "output_type": "display_data"
    }
   ],
   "source": [
    "%fs ls \"/mnt/delta/tables/bronze/buyers\""
   ]
  },
  {
   "cell_type": "code",
   "execution_count": 0,
   "metadata": {
    "application/vnd.databricks.v1+cell": {
     "cellMetadata": {},
     "inputWidgets": {},
     "nuid": "a11633ac-f8b3-46ab-ae13-95701e2c8ca0",
     "showTitle": false,
     "tableResultSettingsMap": {},
     "title": ""
    }
   },
   "outputs": [],
   "source": []
  }
 ],
 "metadata": {
  "application/vnd.databricks.v1+notebook": {
   "computePreferences": null,
   "dashboards": [],
   "environmentMetadata": {
    "base_environment": "",
    "environment_version": "2"
   },
   "inputWidgetPreferences": null,
   "language": "python",
   "notebookMetadata": {
    "mostRecentlyExecutedCommandWithImplicitDF": {
     "commandId": 6842707099960180,
     "dataframes": [
      "_sqldf"
     ]
    },
    "pythonIndentUnit": 4
   },
   "notebookName": "Bronze Layer",
   "widgets": {}
  },
  "language_info": {
   "name": "python"
  }
 },
 "nbformat": 4,
 "nbformat_minor": 0
}
